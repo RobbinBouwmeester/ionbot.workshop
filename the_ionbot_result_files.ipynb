{
 "cells": [
  {
   "cell_type": "markdown",
   "metadata": {},
   "source": [
    "# Search Results Files"
   ]
  },
  {
   "cell_type": "code",
   "execution_count": null,
   "metadata": {},
   "outputs": [],
   "source": [
    "%matplotlib inline\n",
    "import matplotlib.pyplot as plt\n",
    "import seaborn as sns\n",
    "import numpy as np\n",
    "import pandas as pd\n",
    "import plotly.express as px\n",
    "!pip -q install itables\n",
    "from itables import init_notebook_mode\n",
    "init_notebook_mode(all_interactive=True)\n",
    "import itables.options as opt\n",
    "opt.maxBytes = 0\n",
    "opt.classes = [\"display\", \"nowrap\",\"compact\",\"hover\"]\n",
    "opt.showIndex = False\n",
    "opt.style = \"max-width:6000px\"\n",
    "pd.set_option('display.max_colwidth', 400)"
   ]
  },
  {
   "cell_type": "code",
   "execution_count": null,
   "metadata": {},
   "outputs": [],
   "source": [
    "! wget http://genesis.ugent.be/uvpublicdata/ionbot.workshop/ionbot.workshop.data.zip\n",
    "! unzip ionbot.workshop.data.zip\n",
    "! git clone https://github.com/sdgroeve/ionbot.workshop.git\n",
    "! mv ionbot.workshop/* ."
   ]
  },
  {
   "cell_type": "markdown",
   "metadata": {},
   "source": [
    "The `ionbot.twbx` result file contains the matched peptides and proteins as a compressed file. \n",
    "\n",
    "This file can be renamed to better relfect the processed sample.\n",
    "\n",
    "In the following field you can specify the path to the result file: "
   ]
  },
  {
   "cell_type": "code",
   "execution_count": null,
   "metadata": {},
   "outputs": [],
   "source": [
    "twbx_file = \"ionbot_20150929_QE5_UPLC10_RJC_SA_Plaque6_01_filtered.twbx\"\n",
    "#twbx_file = \"c:\\\\Work\\\\ionbot.workshop.data\\\\ionbot_20150929_QE5_UPLC10_RJC_SA_Plaque6_01_filtered.twbx\""
   ]
  },
  {
   "cell_type": "markdown",
   "metadata": {},
   "source": [
    "This result file can be extracted as a zip file, but here we will decompress the file using Python.\n",
    "\n",
    "You can specify the folder to where to extract the ionbot result files to:"
   ]
  },
  {
   "cell_type": "code",
   "execution_count": null,
   "metadata": {},
   "outputs": [],
   "source": [
    "result_folder = \"my_results\"\n",
    "#result_folder = \"c:\\\\Work\\\\ionbot.workshop\\\\my_results\""
   ]
  },
  {
   "cell_type": "code",
   "execution_count": null,
   "metadata": {},
   "outputs": [],
   "source": [
    "import zipfile\n",
    "\n",
    "archive = zipfile.ZipFile(twbx_file)\n",
    "\n",
    "for file in archive.namelist():\n",
    "    if file.startswith('Data/'):\n",
    "        archive.extract(file, result_folder)"
   ]
  },
  {
   "cell_type": "markdown",
   "metadata": {},
   "source": [
    "The result files are written to the subfolders `Data/ionbot_result`:"
   ]
  },
  {
   "cell_type": "code",
   "execution_count": null,
   "metadata": {},
   "outputs": [],
   "source": [
    "result_folder = result_folder + \"/Data/ionbot_result\""
   ]
  },
  {
   "cell_type": "markdown",
   "metadata": {},
   "source": [
    "The content of the result files is described [here](https://ionbot.cloud/help)."
   ]
  },
  {
   "cell_type": "markdown",
   "metadata": {},
   "source": [
    "## The PSM results\n",
    "\n",
    "First, we load the result file that contains the first ranked matches for each MS2 spectrum:"
   ]
  },
  {
   "cell_type": "code",
   "execution_count": null,
   "metadata": {},
   "outputs": [],
   "source": [
    "ionbot = pd.read_csv(\"%s/ionbot.first.csv\"%result_folder)"
   ]
  },
  {
   "cell_type": "markdown",
   "metadata": {},
   "source": [
    "These are the column names:"
   ]
  },
  {
   "cell_type": "code",
   "execution_count": null,
   "metadata": {},
   "outputs": [],
   "source": [
    "for col in ionbot.columns:\n",
    "    print(col)"
   ]
  },
  {
   "cell_type": "markdown",
   "metadata": {},
   "source": [
    "Let's print some columns and explain the content:"
   ]
  },
  {
   "cell_type": "code",
   "execution_count": null,
   "metadata": {},
   "outputs": [],
   "source": [
    "cols_to_use = [\"ionbot_match_id\",\"database_peptide\",\"matched_peptide\",\n",
    "               \"modifications\",\"modifications_delta\",\"unexpected_modification\"]\n",
    "ionbot[cols_to_use]"
   ]
  },
  {
   "cell_type": "markdown",
   "metadata": {},
   "source": [
    "The column `database` is `T` if the PSM matched the target database, it is `D` otherwise."
   ]
  },
  {
   "cell_type": "code",
   "execution_count": null,
   "metadata": {},
   "outputs": [],
   "source": [
    "cols_to_use = [\"ionbot_match_id\",\"database\",\"q-value\"]\n",
    "ionbot[cols_to_use]"
   ]
  },
  {
   "cell_type": "markdown",
   "metadata": {},
   "source": [
    "We can see that the result file contains all matches with FDR <= 1%:"
   ]
  },
  {
   "cell_type": "code",
   "execution_count": null,
   "metadata": {},
   "outputs": [],
   "source": [
    "print(ionbot[\"database\"].value_counts())"
   ]
  },
  {
   "cell_type": "markdown",
   "metadata": {},
   "source": [
    "The column `psm_score` contains the PSM score for the matched spectra:"
   ]
  },
  {
   "cell_type": "code",
   "execution_count": null,
   "metadata": {},
   "outputs": [],
   "source": [
    "px.histogram(ionbot,\n",
    "             x=\"psm_score\", \n",
    "             color=\"database\", \n",
    "             nbins=50\n",
    "            )"
   ]
  },
  {
   "cell_type": "markdown",
   "metadata": {},
   "source": [
    "Next, we load the result file that contains the lower ranked (co-eluting) matches for each MS2 spectrum and add these to the search results:"
   ]
  },
  {
   "cell_type": "code",
   "execution_count": null,
   "metadata": {},
   "outputs": [],
   "source": [
    "ionbot[\"rank\"] = [\"first\"]*len(ionbot)\n",
    "tmp = pd.read_csv(\"%s/ionbot.lower.csv\"%result_folder)\n",
    "tmp[\"rank\"] = [\"lower\"]*len(tmp)\n",
    "ionbot = pd.concat([ionbot,tmp])"
   ]
  },
  {
   "cell_type": "markdown",
   "metadata": {},
   "source": [
    "For the remainder, we remove the matches against the decoy database:"
   ]
  },
  {
   "cell_type": "code",
   "execution_count": null,
   "metadata": {},
   "outputs": [],
   "source": [
    "ionbot = ionbot[(ionbot[\"database\"]==\"T\")]"
   ]
  },
  {
   "cell_type": "markdown",
   "metadata": {},
   "source": [
    "While adding the lower ranked matches we created a column `rank` that has value 'first' if the match was ranked first based on the psm_score, and 'lower' otherwise:"
   ]
  },
  {
   "cell_type": "code",
   "execution_count": null,
   "metadata": {},
   "outputs": [],
   "source": [
    "print(ionbot[\"rank\"].value_counts())"
   ]
  },
  {
   "cell_type": "markdown",
   "metadata": {},
   "source": [
    "To reconstruct the LC-MS separation for matched MS2 spectra we can use the `observed_retention_time` and `precursor_mass` columns: "
   ]
  },
  {
   "cell_type": "code",
   "execution_count": null,
   "metadata": {
    "scrolled": false
   },
   "outputs": [],
   "source": [
    "fig = px.scatter(ionbot, \n",
    "                 x=\"observed_retention_time\", \n",
    "                 y=\"precursor_mass\", \n",
    "                 color=\"rank\",\n",
    "                 hover_data=[\"ionbot_match_id\",\"matched_peptide\"]\n",
    "                )\n",
    "fig.update_traces(marker=dict(size=2))\n",
    "fig.show()"
   ]
  },
  {
   "cell_type": "markdown",
   "metadata": {},
   "source": [
    "The `ionbot.features.csv` result files contains the matching information used in the PSM scoring function.\n",
    "\n",
    "We load `ionbot.features.csv` and merge it with the search results: "
   ]
  },
  {
   "cell_type": "code",
   "execution_count": null,
   "metadata": {},
   "outputs": [],
   "source": [
    "features = pd.read_csv(\"%s/ionbot.features.csv\"%result_folder)\n",
    "ionbot = ionbot.merge(features,on=\"ionbot_match_id\",how=\"left\")\n",
    "\n",
    "for col in features.columns:\n",
    "    print(col)"
   ]
  },
  {
   "cell_type": "markdown",
   "metadata": {},
   "source": [
    "We can plot these feature values as boxplots:"
   ]
  },
  {
   "cell_type": "code",
   "execution_count": null,
   "metadata": {},
   "outputs": [],
   "source": [
    "px.box(ionbot, \n",
    "       y=[\"by-count\",\"all-count\"],\n",
    "       color=\"rank\",\n",
    "       hover_data=[\"ionbot_match_id\"]\n",
    "      )"
   ]
  },
  {
   "cell_type": "code",
   "execution_count": null,
   "metadata": {},
   "outputs": [],
   "source": [
    "px.box(ionbot, \n",
    "       y=[\"by-explained\",\"all-explained\"],\n",
    "       color=\"rank\",\n",
    "       hover_data=[\"ionbot_match_id\"]       \n",
    "      )"
   ]
  },
  {
   "cell_type": "code",
   "execution_count": null,
   "metadata": {},
   "outputs": [],
   "source": [
    "px.box(ionbot, \n",
    "       y=[\"by-intensity-pattern-correlation\"],\n",
    "       color=\"rank\",\n",
    "       hover_data=[\"ionbot_match_id\"]      \n",
    "       )"
   ]
  },
  {
   "cell_type": "code",
   "execution_count": null,
   "metadata": {},
   "outputs": [],
   "source": [
    "px.box(ionbot, \n",
    "       y=[\"rt-pred-error\"],\n",
    "       color=\"rank\",\n",
    "       hover_data=[\"ionbot_match_id\"]\n",
    "      )"
   ]
  },
  {
   "cell_type": "code",
   "execution_count": null,
   "metadata": {},
   "outputs": [],
   "source": [
    "fig = px.scatter(ionbot, \n",
    "                 x=\"observed_retention_time\", \n",
    "                 y=\"predicted_retention_time\",\n",
    "                 color=\"rank\",\n",
    "                 hover_data=[\"ionbot_match_id\"]\n",
    "                )\n",
    "fig.update_traces(marker=dict(size=2))\n",
    "fig.show()"
   ]
  },
  {
   "cell_type": "code",
   "execution_count": null,
   "metadata": {},
   "outputs": [],
   "source": [
    "fig = px.scatter(ionbot, \n",
    "                 x=\"corrected_retention_time\", \n",
    "                 y=\"predicted_retention_time\",\n",
    "                 color=\"rank\",\n",
    "                 hover_data=[\"ionbot_match_id\"]\n",
    "                )\n",
    "fig.update_traces(marker=dict(size=2))\n",
    "fig.show()"
   ]
  },
  {
   "cell_type": "markdown",
   "metadata": {},
   "source": [
    "The `proteins` column contains detailed protein matching information:"
   ]
  },
  {
   "cell_type": "code",
   "execution_count": null,
   "metadata": {},
   "outputs": [],
   "source": [
    "ionbot[[\"ionbot_match_id\",\"proteins\"]]"
   ]
  },
  {
   "cell_type": "markdown",
   "metadata": {},
   "source": [
    "## Adding Uiversal Spectrum Identifiers\n",
    "\n",
    "If the spectrum files were uploaded to a public ProteomeXchange repository, then PSM annotations can be obtained by adding Universal Spectral Identifiers (USI).\n",
    "\n",
    "The USI is a proposed standard in the process of being ratified by the Proteomics Standards Initiative (PSI) that enables the identification of a specific spectrum or PSM contained in public ProteomeXchange repositories.\n",
    "\n",
    "For more information, including the draft specification, please see http://psidev.info/usi/\n",
    "\n",
    "The resuired url can be constructed from the columns in the results files:"
   ]
  },
  {
   "cell_type": "code",
   "execution_count": null,
   "metadata": {},
   "outputs": [],
   "source": [
    "dataset = \"PXD008601\"\n",
    "\n",
    "def get_universal_link(x):\n",
    "    file = '.'.join(x[\"spectrum_file\"].split('.')[:-1])\n",
    "    s = x[\"matched_peptide\"]\n",
    "    if str(x[\"modifications\"]) != \"nan\":\n",
    "        tmp = x[\"modifications_delta\"].split(\"|\")\n",
    "        seq = list(x[\"matched_peptide\"])\n",
    "        for i in range(0,len(tmp),2):\n",
    "            pos = int(tmp[i])\n",
    "            delta = tmp[i+1]\n",
    "            if not delta.startswith('-'):\n",
    "                delta = '%2B' + delta\n",
    "            if pos == 0: #N-TERM\n",
    "                seq.insert(pos,\"[%s]\"%delta)\n",
    "            elif pos == len(seq)+1: #C-TERM\n",
    "                seq.insert(pos-2,\"[%s]\"%delta)\n",
    "            else:\n",
    "                seq.insert(pos,\"[%s]\"%delta)\n",
    "        s = ''.join(seq)\n",
    "    link = \"http://proteomecentral.proteomexchange.org/usi/?usi=mzspec:%s:%s:scan:%i:%s/%i\"%(\n",
    "        dataset,file,x[\"scan\"],s,x[\"charge\"])\n",
    "    return f'<a target=\"_blank\" href=\"%s\">click</a>'%link"
   ]
  },
  {
   "cell_type": "code",
   "execution_count": null,
   "metadata": {},
   "outputs": [],
   "source": [
    "ionbot[\"USI\"] = ionbot.apply(get_universal_link,axis=1)"
   ]
  },
  {
   "cell_type": "markdown",
   "metadata": {},
   "source": [
    "Now we added a column `USI` that contains links to the spectrum annotations:"
   ]
  },
  {
   "cell_type": "code",
   "execution_count": null,
   "metadata": {},
   "outputs": [],
   "source": [
    "cols_to_use = [\"ionbot_match_id\",\"database_peptide\",\"matched_peptide\",\n",
    "               \"modifications\",\"modifications_delta\",\"unexpected_modification\"]\n",
    "ionbot[cols_to_use + [\"USI\"]]"
   ]
  },
  {
   "cell_type": "markdown",
   "metadata": {},
   "source": [
    "## JQuery Lorikeet PSM Annotations\n",
    "\n",
    "Alternatively, PSM annotations can be computed from local MGF files:"
   ]
  },
  {
   "cell_type": "code",
   "execution_count": null,
   "metadata": {},
   "outputs": [],
   "source": [
    "import annotations.lorikeet"
   ]
  },
  {
   "cell_type": "markdown",
   "metadata": {},
   "source": [
    "You need to specify the folder that contains the spectrum MGF files and a folder to store the annotated spectra that are written as HTML files:"
   ]
  },
  {
   "cell_type": "code",
   "execution_count": null,
   "metadata": {},
   "outputs": [],
   "source": [
    "mgf_folder = \"mgfs/\"\n",
    "annotations_folder = \"my_annotations/\"\n",
    "\n",
    "#mgf_folder = \"c:\\\\Work\\\\ionbot.workshop.data\\\\mgfs\\\\\"\n",
    "#annotations_folder = \"c:\\\\Work\\\\ionbot.workshop\\\\my_annotations\\\\\""
   ]
  },
  {
   "cell_type": "markdown",
   "metadata": {},
   "source": [
    "Next, you can specify the PSMs to annotate as follows (for each PSM the corresponding MGF file and the scan number needs to specified):"
   ]
  },
  {
   "cell_type": "code",
   "execution_count": null,
   "metadata": {},
   "outputs": [],
   "source": [
    "to_annotate = [\n",
    "    [\"20150929_QE5_UPLC10_RJC_SA_Plaque6_01.mgf\",12057],\n",
    "    [\"20150929_QE5_UPLC10_RJC_SA_Plaque6_01.mgf\",12058]\n",
    "]"
   ]
  },
  {
   "cell_type": "markdown",
   "metadata": {},
   "source": [
    "The following code will create the PSM annotations:"
   ]
  },
  {
   "cell_type": "code",
   "execution_count": null,
   "metadata": {},
   "outputs": [],
   "source": [
    "for mgf_file, scan in to_annotate:\n",
    "    html_filename = annotations.lorikeet.generate_html(annotations_folder,mgf_folder,mgf_file,scan,ionbot,l_os=\"linux\")\n",
    "    print(\"Annotations written to %s\"%html_filename)"
   ]
  },
  {
   "cell_type": "markdown",
   "metadata": {},
   "source": [
    "## Modifications\n",
    "\n",
    "The 'unexpected_modification' column only shows the matched unexpected modification, not the modifications set as varialbe (expected):"
   ]
  },
  {
   "cell_type": "code",
   "execution_count": null,
   "metadata": {},
   "outputs": [],
   "source": [
    "ionbot[[\"ionbot_match_id\",\"modifications\",\"unexpected_modification\"]]"
   ]
  },
  {
   "cell_type": "markdown",
   "metadata": {},
   "source": [
    "All matched modifications are in the 'modifications' column. We can parse this column as follows:"
   ]
  },
  {
   "cell_type": "code",
   "execution_count": null,
   "metadata": {},
   "outputs": [],
   "source": [
    "modifications = {}\n",
    "\n",
    "def get_modifications(x):\n",
    "    if str(x) == \"nan\":\n",
    "        return\n",
    "    tmp = x.split('|')\n",
    "    for i in range(0,len(tmp),2):\n",
    "        if not tmp[i+1] in modifications:\n",
    "            modifications[tmp[i+1]] = 0\n",
    "        modifications[tmp[i+1]] += 1\n",
    "        \n",
    "ionbot[\"modifications\"].apply(get_modifications)\n",
    "{k: v for k, v in sorted(modifications.items(), key=lambda item: item[1], reverse=True)}"
   ]
  },
  {
   "cell_type": "markdown",
   "metadata": {},
   "source": [
    "## The protein results\n",
    "\n",
    "There are two protein inference result files:\n",
    "\n",
    "- ionbot.first.proteins.csv\n",
    "- ionbot.coeluting.proteins.csv\n",
    "\n",
    "The first file contains the protein statistics infered from the first ranked matched only. The second file containst the protein statistics infered from all co-eluting matches.\n",
    "\n",
    "We will continue with the proteins infered from all co-eluting matches:"
   ]
  },
  {
   "cell_type": "code",
   "execution_count": null,
   "metadata": {},
   "outputs": [],
   "source": [
    "proteins = pd.read_csv(\"%s/ionbot.coeluting.proteins.csv\"%result_folder)"
   ]
  },
  {
   "cell_type": "code",
   "execution_count": null,
   "metadata": {},
   "outputs": [],
   "source": [
    "for col in proteins.columns:\n",
    "    print(col)"
   ]
  },
  {
   "cell_type": "markdown",
   "metadata": {},
   "source": [
    "These are the columns (described [here](https://ionbot.cloud/help)):"
   ]
  },
  {
   "cell_type": "markdown",
   "metadata": {},
   "source": [
    "The `protein_group` column is a concatenation of the proteins it contains (search for '__'):"
   ]
  },
  {
   "cell_type": "code",
   "execution_count": null,
   "metadata": {},
   "outputs": [],
   "source": [
    "cols_to_use = [\"ionbot_match_id\",\"protein_group\",\"protein\",\"position_in_protein\",\"uniprot_id\"]\n",
    "proteins[cols_to_use]"
   ]
  },
  {
   "cell_type": "markdown",
   "metadata": {},
   "source": [
    "Notice how protein groups that contain more than protein are also split over the rows. This allows for the 'position_in_protein', 'uniprot_id', 'protein_length' and 'protein_description' to make sense.\n",
    "\n",
    "However, we want to look at protein groups only, so we remove these duplicated rows:"
   ]
  },
  {
   "cell_type": "code",
   "execution_count": null,
   "metadata": {},
   "outputs": [],
   "source": [
    "cols_to_use = [\"ionbot_match_id\",\"is_shared_peptide\",\"protein_group\",\"protein_group_q-value\",\"protein_group_PEP\"]\n",
    "proteins = proteins[cols_to_use]\n",
    "proteins.drop_duplicates([\"ionbot_match_id\",\"protein_group\"],inplace=True)\n",
    "proteins"
   ]
  },
  {
   "cell_type": "markdown",
   "metadata": {},
   "source": [
    "PSMs matched with two or more protein groups are indicated in the `is_shared_peptide` column:"
   ]
  },
  {
   "cell_type": "code",
   "execution_count": null,
   "metadata": {},
   "outputs": [],
   "source": [
    "print(proteins[\"is_shared_peptide\"].value_counts())"
   ]
  },
  {
   "cell_type": "markdown",
   "metadata": {},
   "source": [
    "We wil continue with non-shared peptide matches only (you can of course skip this step):"
   ]
  },
  {
   "cell_type": "code",
   "execution_count": null,
   "metadata": {},
   "outputs": [],
   "source": [
    "proteins = proteins[proteins[\"is_shared_peptide\"]==False]"
   ]
  },
  {
   "cell_type": "markdown",
   "metadata": {},
   "source": [
    "Now we can count the number of (non-shared) PSMs in each protein group and add this as a column called `#PSMs`:"
   ]
  },
  {
   "cell_type": "code",
   "execution_count": null,
   "metadata": {},
   "outputs": [],
   "source": [
    "tmp = proteins[\"protein_group\"].value_counts().reset_index(level=0)\n",
    "tmp.columns = [\"protein_group\",\"#PSMs\"]\n",
    "proteins = proteins.merge(tmp,on=\"protein_group\",how=\"left\")\n",
    "proteins.drop_duplicates([\"protein_group\"])[[\"protein_group\",\"protein_group_q-value\",\"#PSMs\"]]"
   ]
  },
  {
   "cell_type": "markdown",
   "metadata": {},
   "source": [
    "We can then count then number of protein groups with a specific number of PSMs:"
   ]
  },
  {
   "cell_type": "code",
   "execution_count": null,
   "metadata": {},
   "outputs": [],
   "source": [
    "tmp = proteins.drop_duplicates(\"protein_group\")[\"#PSMs\"].value_counts().reset_index(level=0)\n",
    "fig = px.pie(tmp, values='#PSMs', names='index', title='#PSMs in protein group')\n",
    "fig.update_traces(textposition='inside')\n",
    "fig.show()"
   ]
  },
  {
   "cell_type": "markdown",
   "metadata": {},
   "source": [
    "To compute counts at the peptide level we need to merge the `proteins` data with the `ionbot` data (we do this using the `ionbot_match_id` column:"
   ]
  },
  {
   "cell_type": "code",
   "execution_count": null,
   "metadata": {},
   "outputs": [],
   "source": [
    "proteins = proteins.merge(ionbot,on=\"ionbot_match_id\",how=\"left\")"
   ]
  },
  {
   "cell_type": "code",
   "execution_count": null,
   "metadata": {},
   "outputs": [],
   "source": [
    "proteins.columns"
   ]
  },
  {
   "cell_type": "markdown",
   "metadata": {},
   "source": [
    "Now we can count the number of unique peptides in each protein group and add this as a column called `#peptides`:"
   ]
  },
  {
   "cell_type": "code",
   "execution_count": null,
   "metadata": {},
   "outputs": [],
   "source": [
    "tmp = proteins.drop_duplicates(\"matched_peptide\")[\"protein_group\"].value_counts().reset_index(level=0)\n",
    "tmp.columns = [\"protein_group\",\"#peptides\"]\n",
    "proteins = proteins.merge(tmp,on=\"protein_group\",how=\"left\")"
   ]
  },
  {
   "cell_type": "code",
   "execution_count": null,
   "metadata": {},
   "outputs": [],
   "source": [
    "proteins[cols_to_use + [\"#peptides\"]]"
   ]
  },
  {
   "cell_type": "code",
   "execution_count": null,
   "metadata": {},
   "outputs": [],
   "source": [
    "tmp = proteins.drop_duplicates(\"protein_group\")[\"#peptides\"].value_counts().reset_index(level=0)\n",
    "fig = px.pie(tmp, values='#peptides', names='index', title='#Peptides in protein group')\n",
    "fig.update_traces(textposition='inside')\n",
    "fig.show()"
   ]
  },
  {
   "cell_type": "markdown",
   "metadata": {},
   "source": [
    "We can also compute protein group specific features:"
   ]
  },
  {
   "cell_type": "code",
   "execution_count": null,
   "metadata": {},
   "outputs": [],
   "source": [
    "cols = [\"psm_score\",\"all-count\",\"by-intensity-pattern-correlation\"]\n",
    "metrics = [\"min\",\"max\"]\n",
    "\n",
    "\n",
    "feature_cols = []\n",
    "for col in cols:\n",
    "    for metric in metrics:\n",
    "        feature_cols.append(col+\"_\"+metric)\n",
    "        proteins[col+\"_\"+metric] = proteins.groupby('protein_group')[col].transform(metric)\n",
    "        \n",
    "feature_cols"
   ]
  },
  {
   "cell_type": "code",
   "execution_count": null,
   "metadata": {},
   "outputs": [],
   "source": [
    "proteins[[\"protein_group\"] + feature_cols]"
   ]
  }
 ],
 "metadata": {
  "kernelspec": {
   "display_name": "Python 3",
   "language": "python",
   "name": "python3"
  },
  "language_info": {
   "codemirror_mode": {
    "name": "ipython",
    "version": 3
   },
   "file_extension": ".py",
   "mimetype": "text/x-python",
   "name": "python",
   "nbconvert_exporter": "python",
   "pygments_lexer": "ipython3",
   "version": "3.8.3"
  }
 },
 "nbformat": 4,
 "nbformat_minor": 4
}
